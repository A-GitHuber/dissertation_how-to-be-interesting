{
 "cells": [
  {
   "cell_type": "code",
   "execution_count": 18,
   "id": "a6546273-f737-4531-8395-eeb841429be9",
   "metadata": {},
   "outputs": [
    {
     "ename": "UnicodeDecodeError",
     "evalue": "'gbk' codec can't decode byte 0x93 in position 36746: illegal multibyte sequence",
     "output_type": "error",
     "traceback": [
      "\u001b[1;31m---------------------------------------------------------------------------\u001b[0m",
      "\u001b[1;31mUnicodeDecodeError\u001b[0m                        Traceback (most recent call last)",
      "Cell \u001b[1;32mIn[18], line 19\u001b[0m\n\u001b[0;32m     17\u001b[0m \u001b[38;5;66;03m# 读取JSON文件并提取text字段\u001b[39;00m\n\u001b[0;32m     18\u001b[0m \u001b[38;5;28;01mwith\u001b[39;00m \u001b[38;5;28mopen\u001b[39m(json_file, \u001b[38;5;124m'\u001b[39m\u001b[38;5;124mr\u001b[39m\u001b[38;5;124m'\u001b[39m) \u001b[38;5;28;01mas\u001b[39;00m f:\n\u001b[1;32m---> 19\u001b[0m     data \u001b[38;5;241m=\u001b[39m \u001b[43mjson\u001b[49m\u001b[38;5;241;43m.\u001b[39;49m\u001b[43mload\u001b[49m\u001b[43m(\u001b[49m\u001b[43mf\u001b[49m\u001b[43m)\u001b[49m\n\u001b[0;32m     20\u001b[0m     text \u001b[38;5;241m=\u001b[39m data[\u001b[38;5;124m'\u001b[39m\u001b[38;5;124mtext\u001b[39m\u001b[38;5;124m'\u001b[39m]\n\u001b[0;32m     22\u001b[0m \u001b[38;5;66;03m# 写入TXT文件\u001b[39;00m\n",
      "File \u001b[1;32mD:\\Program Files\\anaconda3\\lib\\json\\__init__.py:293\u001b[0m, in \u001b[0;36mload\u001b[1;34m(fp, cls, object_hook, parse_float, parse_int, parse_constant, object_pairs_hook, **kw)\u001b[0m\n\u001b[0;32m    274\u001b[0m \u001b[38;5;28;01mdef\u001b[39;00m \u001b[38;5;21mload\u001b[39m(fp, \u001b[38;5;241m*\u001b[39m, \u001b[38;5;28mcls\u001b[39m\u001b[38;5;241m=\u001b[39m\u001b[38;5;28;01mNone\u001b[39;00m, object_hook\u001b[38;5;241m=\u001b[39m\u001b[38;5;28;01mNone\u001b[39;00m, parse_float\u001b[38;5;241m=\u001b[39m\u001b[38;5;28;01mNone\u001b[39;00m,\n\u001b[0;32m    275\u001b[0m         parse_int\u001b[38;5;241m=\u001b[39m\u001b[38;5;28;01mNone\u001b[39;00m, parse_constant\u001b[38;5;241m=\u001b[39m\u001b[38;5;28;01mNone\u001b[39;00m, object_pairs_hook\u001b[38;5;241m=\u001b[39m\u001b[38;5;28;01mNone\u001b[39;00m, \u001b[38;5;241m*\u001b[39m\u001b[38;5;241m*\u001b[39mkw):\n\u001b[0;32m    276\u001b[0m     \u001b[38;5;124;03m\"\"\"Deserialize ``fp`` (a ``.read()``-supporting file-like object containing\u001b[39;00m\n\u001b[0;32m    277\u001b[0m \u001b[38;5;124;03m    a JSON document) to a Python object.\u001b[39;00m\n\u001b[0;32m    278\u001b[0m \n\u001b[1;32m   (...)\u001b[0m\n\u001b[0;32m    291\u001b[0m \u001b[38;5;124;03m    kwarg; otherwise ``JSONDecoder`` is used.\u001b[39;00m\n\u001b[0;32m    292\u001b[0m \u001b[38;5;124;03m    \"\"\"\u001b[39;00m\n\u001b[1;32m--> 293\u001b[0m     \u001b[38;5;28;01mreturn\u001b[39;00m loads(\u001b[43mfp\u001b[49m\u001b[38;5;241;43m.\u001b[39;49m\u001b[43mread\u001b[49m\u001b[43m(\u001b[49m\u001b[43m)\u001b[49m,\n\u001b[0;32m    294\u001b[0m         \u001b[38;5;28mcls\u001b[39m\u001b[38;5;241m=\u001b[39m\u001b[38;5;28mcls\u001b[39m, object_hook\u001b[38;5;241m=\u001b[39mobject_hook,\n\u001b[0;32m    295\u001b[0m         parse_float\u001b[38;5;241m=\u001b[39mparse_float, parse_int\u001b[38;5;241m=\u001b[39mparse_int,\n\u001b[0;32m    296\u001b[0m         parse_constant\u001b[38;5;241m=\u001b[39mparse_constant, object_pairs_hook\u001b[38;5;241m=\u001b[39mobject_pairs_hook, \u001b[38;5;241m*\u001b[39m\u001b[38;5;241m*\u001b[39mkw)\n",
      "\u001b[1;31mUnicodeDecodeError\u001b[0m: 'gbk' codec can't decode byte 0x93 in position 36746: illegal multibyte sequence"
     ]
    }
   ],
   "source": [
    "import os\n",
    "import json\n",
    "\n",
    "# 定义文件夹路径\n",
    "folder_path = ''\n",
    "\n",
    "# 遍历文件夹\n",
    "for i in range(10):\n",
    "    folder_name = f'Project_{i}'\n",
    "    folder_dir = os.path.join(folder_path, folder_name)\n",
    "    \n",
    "    # 获取文件夹中的第一个JSON文件路径\n",
    "    json_files = [file for file in os.listdir(folder_dir) if file.endswith('.json')]\n",
    "    if len(json_files) > 0:\n",
    "        json_file = os.path.join(folder_dir, json_files[0])\n",
    "        \n",
    "        # 读取JSON文件并提取text字段\n",
    "        with open(json_file, 'r') as f:\n",
    "            data = json.load(f)\n",
    "            text = data['text']\n",
    "            \n",
    "        # 写入TXT文件\n",
    "        txt_file = os.path.join(folder_path, f'{folder_name}.txt')\n",
    "        with open(txt_file, 'w') as f:\n",
    "            f.write(text)\n"
   ]
  },
  {
   "cell_type": "code",
   "execution_count": 26,
   "id": "e21d22ab-fba4-452e-8a52-6fc759fadd12",
   "metadata": {},
   "outputs": [],
   "source": [
    "import json\n",
    "# 定义文件夹路径\n",
    "folder_path1 = ''\n",
    "folder_path2 = 'txt/'\n",
    "\n",
    "# 遍历文件夹\n",
    "for i in range(1):\n",
    "    folder_name = f'Project_{i}'\n",
    "    folder_dir = os.path.join(folder_path1, folder_name)\n",
    "    \n",
    "    # 获取文件夹中的第一个JSON文件路径\n",
    "    json_files = [file for file in os.listdir(folder_dir) if file.endswith('.json')]\n",
    "    \n",
    "    if len(json_files) > 0:\n",
    "        json_file = os.path.join(folder_dir, json_files[0])\n",
    "        \n",
    "        # 读取JSON文件并提取text字段\n",
    "        with open(json_file, 'r', encoding='utf-8') as f:\n",
    "            data = json.load(f)\n",
    "            text = data[0]['text']\n",
    "            \n",
    "        # 写入TXT文件\n",
    "        txt_file = os.path.join(folder_path2, f'{folder_name}.txt')\n",
    "        with open(txt_file, 'w') as f:\n",
    "            f.write(text)"
   ]
  },
  {
   "cell_type": "code",
   "execution_count": 32,
   "id": "71c6bade-9921-4b28-8d16-62aa2d5807cd",
   "metadata": {},
   "outputs": [],
   "source": [
    "import json\n",
    "# 定义文件夹路径\n",
    "folder_path1 = ''\n",
    "folder_path2 = 'txt/'\n",
    "\n",
    "# 遍历文件夹\n",
    "for i in range(10):\n",
    "    folder_name = f'Project_{i}'\n",
    "    folder_dir = os.path.join(folder_path1, folder_name)\n",
    "    \n",
    "    # 获取文件夹中的第一个JSON文件路径\n",
    "    json_files = [file for file in os.listdir(folder_dir) if file.endswith('.json')]\n",
    "    \n",
    "    # 遍历JSON文件\n",
    "    for json_file in json_files:\n",
    "        json_path = os.path.join(folder_dir, json_file)\n",
    "        \n",
    "        # 读取JSON文件并提取text字段\n",
    "        with open(json_path, 'r', encoding='utf-8') as f:\n",
    "            data = json.load(f)\n",
    "            \n",
    "            # 遍历每组数据\n",
    "            for item in data:\n",
    "                text = item['text']\n",
    "                \n",
    "                # 写入TXT文件\n",
    "                txt_file = os.path.join(folder_path2, f'{folder_name}.txt')\n",
    "                with open(txt_file, 'a', encoding='utf-8') as f:  # 使用追加模式'a'，以便将每组数据都写入同一个TXT文件\n",
    "                    f.write(text + '\\n')  # 在每组数据之间添加换行符"
   ]
  },
  {
   "cell_type": "code",
   "execution_count": 4,
   "id": "b82a9fb6-125a-4e24-9b9d-734b68786391",
   "metadata": {},
   "outputs": [],
   "source": [
    "import pandas as pd\n",
    "import os\n",
    "\n",
    "# 读取csv文件\n",
    "df = pd.read_csv('overall/overall_student_teacher.csv')\n",
    "\n",
    "# 遍历每一行，生成txt文件\n",
    "for index, row in df.iterrows():\n",
    "    # 获取文件名和文件内容\n",
    "    file_name = f\"{row['conversation_id']}_{row['id']}.txt\"\n",
    "    file_content = row['text']\n",
    "    \n",
    "    # 创建txt文件并写入内容\n",
    "    file_path = os.path.join('overall/txt', file_name)\n",
    "    with open(file_path, 'w', encoding='utf-8') as f:\n",
    "        f.write(file_content)\n"
   ]
  },
  {
   "cell_type": "code",
   "execution_count": null,
   "id": "e807ed33-b5cb-433e-96cb-fc9b8412e787",
   "metadata": {},
   "outputs": [],
   "source": []
  }
 ],
 "metadata": {
  "kernelspec": {
   "display_name": "Python 3 (ipykernel)",
   "language": "python",
   "name": "python3"
  },
  "language_info": {
   "codemirror_mode": {
    "name": "ipython",
    "version": 3
   },
   "file_extension": ".py",
   "mimetype": "text/x-python",
   "name": "python",
   "nbconvert_exporter": "python",
   "pygments_lexer": "ipython3",
   "version": "3.8.16"
  }
 },
 "nbformat": 4,
 "nbformat_minor": 5
}
